{
 "cells": [
  {
   "cell_type": "markdown",
   "metadata": {},
   "source": [
    "# Question 1 :\n",
    "\n",
    "\n"
   ]
  },
  {
   "cell_type": "code",
   "execution_count": 1,
   "metadata": {},
   "outputs": [
    {
     "name": "stdout",
     "output_type": "stream",
     "text": [
      "\n",
      "---WELCOME TO BACK ACCOUNT PROGRAM---\n",
      "\n",
      "Account Holder Name is : Ashwini Bhaskar\n",
      "\n",
      "Initial Account Balance is : 0\n",
      "Do you want to withdraw or deposit [d,w] : d\n",
      "\n",
      "Enter amount to be Deposited : 4567\n",
      "\n",
      "Amount Deposited is : 4567.0\n",
      "\n",
      "Net Avaliable balance is :  4567.0\n",
      "Do you want to withdraw or deposit again [y/n] : y\n",
      "Do you want to withdraw or deposit [d,w] : w\n",
      "\n",
      "Enter amount to be Withdrawn : 45678\n",
      "\n",
      "Insufficient balance in the account...\n",
      "\n",
      "Net Avaliable balance is :  4567.0\n",
      "Do you want to withdraw or deposit again [y/n] : y\n",
      "Do you want to withdraw or deposit [d,w] : d\n",
      "\n",
      "Enter amount to be Deposited : 3445\n",
      "\n",
      "Amount Deposited is : 3445.0\n",
      "\n",
      "Net Avaliable balance is :  8012.0\n",
      "Do you want to withdraw or deposit again [y/n] : n\n"
     ]
    }
   ],
   "source": [
    "\n",
    "class BankAccount: \n",
    "\n",
    "    def __init__(self): \n",
    "\n",
    "        self.ownerName=\"Ashwini Bhaskar\"\n",
    "        \n",
    "        self.Balance=0\n",
    "        \n",
    "    def deposit(self): \n",
    "        \n",
    "        Amount=float(input(\"\\nEnter amount to be Deposited : \")) \n",
    "        \n",
    "        self.Balance += Amount \n",
    "        \n",
    "        print(\"\\nAmount Deposited is :\",Amount) \n",
    "  \n",
    "    def withdraw(self): \n",
    "        \n",
    "        Amount = float(input(\"\\nEnter amount to be Withdrawn : \")) \n",
    "        \n",
    "        if self.Balance >= Amount: \n",
    "        \n",
    "            self.Balance -= Amount \n",
    "            \n",
    "            print(\"\\nYou have Withdrew :\", Amount) \n",
    "        \n",
    "        else: \n",
    "        \n",
    "            print(\"\\nInsufficient balance in the account...\") \n",
    "        \n",
    "            \n",
    "\n",
    "print(\"\\n---WELCOME TO BACK ACCOUNT PROGRAM---\")\n",
    "    \n",
    "BA = BankAccount()\n",
    "\n",
    "print(\"\\nAccount Holder Name is :\",BA.ownerName)\n",
    "    \n",
    "print(\"\\nInitial Account Balance is :\",BA.Balance)\n",
    "\n",
    "\n",
    "while True:\n",
    "    choice=input(\"Do you want to withdraw or deposit [d,w] : \").lower()\n",
    "    while choice not in ['d','w']:\n",
    "        choice=str(input(\"Enter d or w only : \"))\n",
    "    if choice=='d':\n",
    "        BA.deposit();\n",
    "    else:\n",
    "        BA.withdraw();\n",
    "    print(\"\\nNet Avaliable balance is : \",BA.Balance)\n",
    "    c=input(\"Do you want to withdraw or deposit again [y/n] : \").lower()\n",
    "    while c not in ['y','n']:\n",
    "        c=str(input(\"Enter y or n only : \"))\n",
    "    if c=='y':\n",
    "        continue\n",
    "    else:\n",
    "        break"
   ]
  },
  {
   "cell_type": "markdown",
   "metadata": {},
   "source": [
    "# Question 2:\n",
    "For this challenge, create a cone class that has two attributes:\n",
    "*R=Radius\n",
    "*h=Height"
   ]
  },
  {
   "cell_type": "code",
   "execution_count": 2,
   "metadata": {
    "collapsed": true
   },
   "outputs": [],
   "source": [
    "import math\n",
    "\n",
    "pi = math.pi\n",
    "\n",
    "class cone:\n",
    "    \n",
    "    def __init__(self,r,h): \n",
    "\n",
    "        self.r=r\n",
    "        \n",
    "        self.h=h\n",
    "        \n",
    "    def volume(self):\n",
    "        \n",
    "        result = (1 / 3) * pi * self.r * self.r * self.h\n",
    "        \n",
    "        print(\"\\nVolume Of Cone is :\",result)\n",
    "        \n",
    "    def surfacearea(self):\n",
    "        \n",
    "        result = pi * self.r * self.h + pi * self.r * self.r\n",
    "         \n",
    "        print(\"\\nSurface Area Of Cone is :\",result)"
   ]
  },
  {
   "cell_type": "code",
   "execution_count": 3,
   "metadata": {},
   "outputs": [
    {
     "name": "stdout",
     "output_type": "stream",
     "text": [
      "\n",
      "Enter the radius of cone : 45\n",
      "\n",
      "Enter the height of cone : 67\n",
      "\n",
      "Volume Of Cone is : 142078.5277585984\n",
      "\n",
      "Surface Area Of Cone is : 15833.626974092556\n"
     ]
    }
   ],
   "source": [
    "R = float(input(\"\\nEnter the radius of cone : \"))\n",
    "\n",
    "H = float(input(\"\\nEnter the height of cone : \"))\n",
    "\n",
    "c = cone( R, H)\n",
    "\n",
    "c.volume()\n",
    "\n",
    "c.surfacearea()"
   ]
  },
  {
   "cell_type": "code",
   "execution_count": null,
   "metadata": {
    "collapsed": true
   },
   "outputs": [],
   "source": []
  }
 ],
 "metadata": {
  "kernelspec": {
   "display_name": "Python 3",
   "language": "python",
   "name": "python3"
  },
  "language_info": {
   "codemirror_mode": {
    "name": "ipython",
    "version": 3
   },
   "file_extension": ".py",
   "mimetype": "text/x-python",
   "name": "python",
   "nbconvert_exporter": "python",
   "pygments_lexer": "ipython3",
   "version": "3.6.2"
  }
 },
 "nbformat": 4,
 "nbformat_minor": 4
}
