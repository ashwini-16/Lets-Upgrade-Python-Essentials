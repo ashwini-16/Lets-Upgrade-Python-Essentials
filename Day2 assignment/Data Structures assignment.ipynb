{
 "cells": [
  {
   "cell_type": "markdown",
   "metadata": {},
   "source": [
    "# 1. Lists and its default functions\n"
   ]
  },
  {
   "cell_type": "code",
   "execution_count": 4,
   "metadata": {},
   "outputs": [
    {
     "name": "stdout",
     "output_type": "stream",
     "text": [
      "[1, (2, 3, 'A'), 'ASHI', 'hello', 15.3, 52367231]\n",
      "[1, (2, 3, 'A'), 'ASHI', 'hello', 15.3, 52367231]\n",
      "1\n",
      "(2, 3, 'A')\n",
      "2\n",
      "3\n",
      "A\n",
      "ASHI\n",
      "hello\n",
      "15.3\n",
      "<class 'list'>\n",
      "<class 'int'>\n",
      "<class 'tuple'>\n",
      "<class 'int'>\n",
      "<class 'int'>\n",
      "<class 'str'>\n",
      "<class 'str'>\n",
      "<class 'str'>\n",
      "<class 'float'>\n"
     ]
    }
   ],
   "source": [
    "# A Python list can be seen as a collection of values.\n",
    "\n",
    "\n",
    "list1=[ 1,(2,3,\"A\"),\"ASHI\",\"hello\", 15.3,52367231]\n",
    "print(list1)\n",
    "\n",
    "\n",
    "# Accessing the elements of lists\n",
    "\n",
    "print(list1)\n",
    "print(list1[0])\n",
    "print(list1[1])\n",
    "print(list1[1][0])\n",
    "print(list1[1][1])\n",
    "print(list1[1][2])\n",
    "print(list1[2])\n",
    "print(list1[3])\n",
    "print(list1[4])\n",
    "\n",
    "print(type(list1))\n",
    "print(type(list1[0]))\n",
    "print(type(list1[1]))\n",
    "print(type(list1[1][0]))\n",
    "print(type(list1[1][1]))\n",
    "print(type(list1[1][2]))\n",
    "print(type(list1[2]))\n",
    "print(type(list1[3]))\n",
    "print(type(list1[4]))"
   ]
  },
  {
   "cell_type": "markdown",
   "metadata": {},
   "source": [
    "Default functions of lists"
   ]
  },
  {
   "cell_type": "code",
   "execution_count": 9,
   "metadata": {},
   "outputs": [
    {
     "name": "stdout",
     "output_type": "stream",
     "text": [
      "[2, 1, 3]\n",
      "None\n",
      "[2, 1, 3, (4, 'Hello')]\n"
     ]
    }
   ],
   "source": [
    "#  a. append() : It adds an item to the end of the list.\n",
    "\n",
    "a=[2, 1, 3]\n",
    "print(a)\n",
    "print(a.append((4,\"Hello\")))\n",
    "print(a) # Output: [2, 1, 3, (4, 'Hello')]"
   ]
  },
  {
   "cell_type": "code",
   "execution_count": 10,
   "metadata": {},
   "outputs": [
    {
     "name": "stdout",
     "output_type": "stream",
     "text": [
      "None\n",
      "[2, 1, 3, 5, (4, 'Hello')]\n"
     ]
    }
   ],
   "source": [
    "# b. insert() : It inserts an item at a specified position.\n",
    "\n",
    "print(a.insert(3,5))\n",
    "print(a) # Output: [2, 1, 3, 5, 4]\n",
    "# This inserted the element 5 at index 3."
   ]
  },
  {
   "cell_type": "code",
   "execution_count": 11,
   "metadata": {},
   "outputs": [
    {
     "name": "stdout",
     "output_type": "stream",
     "text": [
      "None\n",
      "[1, 3, 5, 2, 4]\n"
     ]
    }
   ],
   "source": [
    "# c. remove() : It removes the first instance of an item from the Python list.\n",
    "\n",
    "a=[2,1,3,5,2,4]\n",
    "print(a.remove(2))\n",
    "print(a) # Output: [1, 3, 5, 2, 4]\n",
    "#  Notice how there were two 2s, but it removed only the first one."
   ]
  },
  {
   "cell_type": "code",
   "execution_count": 15,
   "metadata": {},
   "outputs": [
    {
     "name": "stdout",
     "output_type": "stream",
     "text": [
      "4\n",
      "5\n",
      "[2, 1, 3, 2]\n"
     ]
    }
   ],
   "source": [
    "# d. pop() : It removes the element at the specified index, and prints it to the screen.\n",
    "a=[2,1,3,5,2,4]\n",
    "print(a.pop()) # pops the last element of the list\n",
    "print(a.pop(3)) # Output: 2\n",
    "print(a) # Output: [2, 1, 3, 2]"
   ]
  },
  {
   "cell_type": "code",
   "execution_count": 16,
   "metadata": {},
   "outputs": [
    {
     "name": "stdout",
     "output_type": "stream",
     "text": [
      "2\n"
     ]
    }
   ],
   "source": [
    "# e. count() : It returns the count of the item specified.\n",
    "\n",
    "a=[1,3,5,3,4]\n",
    "print(a.count(3)) # Output: 2"
   ]
  },
  {
   "cell_type": "markdown",
   "metadata": {},
   "source": [
    "# 2. Dictionaries and its default functions"
   ]
  },
  {
   "cell_type": "code",
   "execution_count": 19,
   "metadata": {},
   "outputs": [
    {
     "name": "stdout",
     "output_type": "stream",
     "text": [
      "<class 'dict'>\n",
      "<class 'str'>\n",
      "<class 'int'>\n",
      "<class 'float'>\n",
      "<class 'tuple'>\n",
      "<class 'list'>\n",
      "{1: 'carrots', 'two': [1, 2, 3]}\n",
      "{1: 4, 2: 4}\n"
     ]
    }
   ],
   "source": [
    "# Dictionary doesn't use indexing rather it uses keys as index. Also dictionary cannot have list as its key.\n",
    "dictionary= {1:\"A\", \"B\":2, 3: 2.2, 4.8 : (\"ba\",1,1.2), (1, \"a\"):[1,2]}\n",
    "print(type(dictionary))\n",
    "print(type(dictionary[1]))\n",
    "print(type(dictionary[\"B\"]))\n",
    "print(type(dictionary[3]))\n",
    "print(type(dictionary[4.8]))\n",
    "print(type(dictionary[(1, \"a\")]))\n",
    "\n",
    "#  Dictionaries with mixed keys : It isn’t necessary to use the same kind of keys (or values) for a dictionary in Python.\n",
    "\n",
    "dict1={1:'carrots','two':[1,2,3]}\n",
    "print(dict1) # Output: {1: ‘carrots’, ‘two’: [1, 2, 3]}\n",
    "\n",
    "\n",
    "\n",
    "# Declaring one key more than once\n",
    "\n",
    "dict2={1:2,1:3,1:4,2:4}\n",
    "print(dict2) # Output: {1: 4, 2: 4}\n",
    "\n",
    "# As we can see, 1:2 was replaced by 1:3, which was then replaced by 1:4. This shows us that a dictionary cannot contain the\n",
    "# same key twice."
   ]
  },
  {
   "cell_type": "markdown",
   "metadata": {},
   "source": [
    "Default functions of dictionaries"
   ]
  },
  {
   "cell_type": "code",
   "execution_count": 20,
   "metadata": {},
   "outputs": [
    {
     "name": "stdout",
     "output_type": "stream",
     "text": [
      "{1: 'A', 'B': 2, 3: 2.2, 4.8: ('ba', 1, 1.2), (1, 'a'): [1, 2]}\n",
      "dict_keys([1, 'B', 3, 4.8, (1, 'a')])\n"
     ]
    }
   ],
   "source": [
    "# a. keys() : The keys() method returns a list of keys in a Python dictionary.\n",
    "dict3= {1:\"A\", \"B\":2, 3: 2.2, 4.8 : (\"ba\",1,1.2), (1, \"a\"):[1,2]}\n",
    "print(dict3)\n",
    "print(dict3.keys())"
   ]
  },
  {
   "cell_type": "code",
   "execution_count": 21,
   "metadata": {},
   "outputs": [
    {
     "name": "stdout",
     "output_type": "stream",
     "text": [
      "{1: 'A', 'B': 2, 3: 2.2, 4.8: ('ba', 1, 1.2), (1, 'a'): [1, 2]}\n",
      "dict_values(['A', 2, 2.2, ('ba', 1, 1.2), [1, 2]])\n"
     ]
    }
   ],
   "source": [
    "# b. values() : Likewise, the values() method returns a list of values in the dictionary.\n",
    "\n",
    "print(dict3)\n",
    "print(dict3.values())"
   ]
  },
  {
   "cell_type": "code",
   "execution_count": 23,
   "metadata": {},
   "outputs": [
    {
     "name": "stdout",
     "output_type": "stream",
     "text": [
      "{1: 'A', 'B': 2, 3: 2.2, 4.8: ('ba', 1, 1.2), (1, 'a'): [1, 2]}\n",
      "dict_items([(1, 'A'), ('B', 2), (3, 2.2), (4.8, ('ba', 1, 1.2)), ((1, 'a'), [1, 2])])\n"
     ]
    }
   ],
   "source": [
    "# c. items() : This method returns a list of key-value pairs.\n",
    "\n",
    "print(dict3)\n",
    "print(dict3.items())"
   ]
  },
  {
   "cell_type": "code",
   "execution_count": 27,
   "metadata": {},
   "outputs": [
    {
     "data": {
      "text/plain": [
       "{'hi': 1, 2: 'a', 8: '245', 3: 3}"
      ]
     },
     "execution_count": 27,
     "metadata": {},
     "output_type": "execute_result"
    }
   ],
   "source": [
    "# d. update() : The update() method takes another dictionary as an argument. Then it updates the dictionary to hold values from \n",
    "# the other dictionary that it doesn’t already.\n",
    "\n",
    "dict1={\"hi\":1,2:\"a\"}\n",
    "dict2={8:\"245\",3:3}\n",
    "dict1.update(dict2)\n",
    "dict1 # Output: {'hi': 1, 2: 'a', 8: '245', 3: 3}"
   ]
  },
  {
   "cell_type": "code",
   "execution_count": 32,
   "metadata": {},
   "outputs": [
    {
     "name": "stdout",
     "output_type": "stream",
     "text": [
      "{'hi': 1, 2: 'a', 8: '245', 3: 3}\n",
      "{}\n"
     ]
    }
   ],
   "source": [
    "# e. clear() : The clear function’s purpose empties the Python dictionary.\n",
    "\n",
    "dict1={'hi': 1, 2: 'a', 8: '245', 3: 3}\n",
    "\n",
    "print(dict1)\n",
    "dict1.clear()\n",
    "print(dict1) # Output: {}\n",
    "\n"
   ]
  },
  {
   "cell_type": "markdown",
   "metadata": {},
   "source": [
    "# 3. Sets and its default functions"
   ]
  },
  {
   "cell_type": "code",
   "execution_count": 34,
   "metadata": {},
   "outputs": [
    {
     "name": "stdout",
     "output_type": "stream",
     "text": [
      "<class 'set'>\n",
      "{1, 2, 3}\n"
     ]
    }
   ],
   "source": [
    "# A set in Python holds a sequence of values. It is sequenced but does not support indexing.\n",
    "\n",
    "set1={1, 2.2, \"hello\", (1, \"hi\",4.3)}\n",
    "print(type(set1))\n",
    "a={1,2,2,3}\n",
    "print(a)"
   ]
  },
  {
   "cell_type": "markdown",
   "metadata": {},
   "source": [
    "Default functions of Sets"
   ]
  },
  {
   "cell_type": "code",
   "execution_count": 35,
   "metadata": {},
   "outputs": [
    {
     "name": "stdout",
     "output_type": "stream",
     "text": [
      "{1, 2, 3, 4, 5, 6, 3.5}\n",
      "{1, 2, 3, 4, 5, 6, 3.5}\n"
     ]
    }
   ],
   "source": [
    "# a. add() : It takes as argument the item to be added to the set.\n",
    "\n",
    "numbers={1, 2, 3, 4, 5, 6}\n",
    "numbers.add(3.5)\n",
    "print(numbers) # Output: {1, 2, 3, 4, 5, 6, 3.5}\n",
    "\n",
    "# If you add an existing item in the set, the set remains unaffected.\n",
    "\n",
    "numbers.add(4)\n",
    "print(numbers) # Output: {1, 2, 3, 4, 5, 6, 3.5}"
   ]
  },
  {
   "cell_type": "code",
   "execution_count": 36,
   "metadata": {},
   "outputs": [
    {
     "name": "stdout",
     "output_type": "stream",
     "text": [
      "{1, 2, 4, 5, 6}\n",
      "{1, 2, 4, 6}\n"
     ]
    }
   ],
   "source": [
    "# b. remove() : It deletes an item from the set.\n",
    "numbers={1, 2, 4, 5, 6}\n",
    "print(numbers)\n",
    "numbers.remove(5)\n",
    "print(numbers) # Output: {1, 2, 4, 6}"
   ]
  },
  {
   "cell_type": "code",
   "execution_count": 38,
   "metadata": {},
   "outputs": [
    {
     "name": "stdout",
     "output_type": "stream",
     "text": [
      "{1, 2, 3, 4, 5, 6, 7}\n",
      "{1, 2, 3}\n"
     ]
    }
   ],
   "source": [
    "# c. union : This method performs the union operation on two or more Python sets. It returns all the items that are in any of \n",
    "# those sets.\n",
    "\n",
    "set1,set2,set3={1,2,3},{3,4,5},{5,6,7}\n",
    "print(set1.union(set2,set3)) # Output: {1, 2, 3, 4, 5, 6, 7}\n",
    "\n",
    "print(set1) # Output: {1, 2, 3}, but the sets remain unchanged"
   ]
  },
  {
   "cell_type": "code",
   "execution_count": 39,
   "metadata": {},
   "outputs": [
    {
     "name": "stdout",
     "output_type": "stream",
     "text": [
      "{3}\n",
      "set()\n"
     ]
    }
   ],
   "source": [
    "# d. intersection : This method takes an argument as sets, and returns the common items in all the sets.\n",
    "\n",
    "set1,set2,set3={1,2,3},{3,4,5},{5,6,7}\n",
    "\n",
    "print(set2.intersection(set1)) # Output: {3}\n",
    "\n",
    "# Let’s intersect all three sets.\n",
    "\n",
    "print(set2.intersection(set1,set3)) # Output: set()"
   ]
  },
  {
   "cell_type": "code",
   "execution_count": 40,
   "metadata": {},
   "outputs": [
    {
     "name": "stdout",
     "output_type": "stream",
     "text": [
      "{1, 2}\n",
      "{1, 2}\n"
     ]
    }
   ],
   "source": [
    "# e. difference : The difference() method returns the difference of two or more sets. It returns as a set.\n",
    "\n",
    "set1,set2,set3={1,2,3},{3,4,5},{5,6,7}\n",
    "\n",
    "print(set1.difference(set2)) # Output: {1, 2}\n",
    "\n",
    "# This returns the items that are in set1, but not in set2.\n",
    "\n",
    "print(set1.difference(set2,set3)) # Output: {1, 2}"
   ]
  },
  {
   "cell_type": "markdown",
   "metadata": {
    "collapsed": true
   },
   "source": [
    "# 4. Tuples and its default methods"
   ]
  },
  {
   "cell_type": "code",
   "execution_count": 1,
   "metadata": {},
   "outputs": [
    {
     "name": "stdout",
     "output_type": "stream",
     "text": [
      "0\n",
      "4\n",
      "6\n"
     ]
    }
   ],
   "source": [
    "# a. index(): This method takes one argument and returns the index of the first appearance of an item in a tuple.\n",
    "t=(1,1,2,3,4,4,5)\n",
    "print(t.index(1))# Since there is two 1's in the tuple and so it returns the index of the first 1 that is 0\n",
    "print(t.index(4))# This returns index of the first 4 that is 4\n",
    "print(t.index(5))"
   ]
  },
  {
   "cell_type": "code",
   "execution_count": 2,
   "metadata": {},
   "outputs": [
    {
     "name": "stdout",
     "output_type": "stream",
     "text": [
      "2\n",
      "4\n",
      "3\n"
     ]
    }
   ],
   "source": [
    "# b. count(): This method takes one argument and returns the number of times an item appears in the tuple.\n",
    "t=(1,1,2,3,4,4,3,4,3,3,5)\n",
    "print(t.count(1))\n",
    "print(t.count(3))\n",
    "print(t.count(4))"
   ]
  },
  {
   "cell_type": "markdown",
   "metadata": {},
   "source": [
    "# 5. Strings and default functions"
   ]
  },
  {
   "cell_type": "code",
   "execution_count": 3,
   "metadata": {},
   "outputs": [
    {
     "name": "stdout",
     "output_type": "stream",
     "text": [
      "hello\n",
      "Hello\n",
      "World\n"
     ]
    }
   ],
   "source": [
    "# a. capitalize() : This function capitalizes the first character of the string. And if the first character ic capital then it leaves that way.\n",
    "s=\"hello\"\n",
    "print(s)\n",
    "print(s.capitalize())\n",
    "print(\"world\".capitalize()) # this can also be done that is just putting any string with capitalize() function will work."
   ]
  },
  {
   "cell_type": "code",
   "execution_count": 4,
   "metadata": {},
   "outputs": [
    {
     "name": "stdout",
     "output_type": "stream",
     "text": [
      "ashw!n!\n",
      "hell@\n",
      "@jfgajs\n",
      "dsjfgajs\n"
     ]
    }
   ],
   "source": [
    "# b. replace() : This function takes two input, first the character which needs to be replaced in the string and the second is the character to replace with.\n",
    "s=\"hello\"\n",
    "print(\"ashwini\".replace(\"i\",\"!\"))# this can also be done that is just putting any string with replace() function will work.\n",
    "print(s.replace(\"o\",\"@\")) # this statement replaces 'o' in \"hello world\" by '@'\n",
    "print(\"dsjfgajs\".replace(\"ds\",\"@\"))# if it encounters 'ds' then it will replace by @\n",
    "print(\"dsjfgajs\".replace(\"dj\",\"@!!\"))# if it encounters 'dj' then it will replace by @!! or else it won't."
   ]
  },
  {
   "cell_type": "code",
   "execution_count": 5,
   "metadata": {},
   "outputs": [
    {
     "name": "stdout",
     "output_type": "stream",
     "text": [
      "True\n",
      "True\n",
      "False\n",
      "False\n"
     ]
    }
   ],
   "source": [
    "# c. isalpha() : This function is used check whether the string contains alphabets or not. If yes returns true or else returns false.\n",
    "s=\"hello\"\n",
    "print(\"ashu\".isalpha())# this can also be done that is just putting any string with isalpha() function will work.\n",
    "print(s.isalpha())\n",
    "print(\"hello world\".isalpha()) # Also it returns false if it encounters space or special characters in the string.\n",
    "print(\"hi!\".isalpha())"
   ]
  },
  {
   "cell_type": "code",
   "execution_count": 6,
   "metadata": {},
   "outputs": [
    {
     "name": "stdout",
     "output_type": "stream",
     "text": [
      "True\n",
      "False\n",
      "True\n",
      "False\n",
      "False\n"
     ]
    }
   ],
   "source": [
    "# d. isdigit() : This function is used to check whether the string contains digits or not. If yes it returns true or else returns false.\n",
    "s=\"hello\"\n",
    "p=\"32432\"\n",
    "print(\"6237\".isdigit())\n",
    "print(s.isdigit())\n",
    "print(p.isdigit())\n",
    "print(\"3268#\".isdigit())# Returns false for special characters\n",
    "print(\"23.2\".isdigit())# Also returns false for float values"
   ]
  },
  {
   "cell_type": "code",
   "execution_count": 9,
   "metadata": {},
   "outputs": [
    {
     "name": "stdout",
     "output_type": "stream",
     "text": [
      "True\n",
      "True\n",
      "False\n"
     ]
    }
   ],
   "source": [
    "# e. isalnum() function is used to check whether the string is alpha-numeric or not. If yes returns true else returns false.\n",
    "a=\"Hello1234\"\n",
    "print(\"23rec\".isalnum())\n",
    "print(a.isalnum())\n",
    "print(\"world@@123456\".isalnum())# Returns false for special characters.\n"
   ]
  }
 ],
 "metadata": {
  "kernelspec": {
   "display_name": "Python 3",
   "language": "python",
   "name": "python3"
  },
  "language_info": {
   "codemirror_mode": {
    "name": "ipython",
    "version": 3
   },
   "file_extension": ".py",
   "mimetype": "text/x-python",
   "name": "python",
   "nbconvert_exporter": "python",
   "pygments_lexer": "ipython3",
   "version": "3.6.2"
  }
 },
 "nbformat": 4,
 "nbformat_minor": 2
}
